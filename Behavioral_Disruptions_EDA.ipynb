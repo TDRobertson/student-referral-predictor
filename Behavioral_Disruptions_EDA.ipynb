{
 "cells": [
  {
   "cell_type": "markdown",
   "id": "33fb4d2d",
   "metadata": {},
   "source": [
    "# Data Mining Project: Predicting Student Behavioral Disruptions\n"
   ]
  },
  {
   "cell_type": "markdown",
   "id": "02a20768",
   "metadata": {},
   "source": [
    "\n",
    "## Table of Contents\n",
    "1. [Introduction](#introduction)\n",
    "2. [Data Loading and Initial Exploration](#data-loading)\n",
    "3. [Exploratory Data Analysis (EDA)](#eda)\n",
    "4. [Hypothesis Testing](#hypothesis-testing)\n",
    "5. [Feature Engineering](#feature-engineering)\n",
    "6. [Model Development](#model-development)\n",
    "7. [Model Evaluation and Interpretation](#model-evaluation)\n",
    "8. [Result Cleanup](#result-cleanup)\n"
   ]
  },
  {
   "cell_type": "markdown",
   "id": "3a4ac03a",
   "metadata": {},
   "source": [
    "## 1. Introduction\n",
    "This notebook documents our team's effort to predict and analyze student behavioral disruptions to minimize in-class interruptions.\n",
    "\n",
    "**Team Members:**  \n",
    "**Customer:** Adam West\n",
    "\n",
    "**Objectives:**\n",
    "- Predict behavioral disruptions\n",
    "- Identify anomalous patterns\n",
    "- Provide clear interpretations\n"
   ]
  },
  {
   "cell_type": "markdown",
   "id": "04cd978a",
   "metadata": {},
   "source": [
    "## 2. Data Loading and Initial Exploration"
   ]
  },
  {
   "cell_type": "code",
   "execution_count": null,
   "id": "9b8590ee",
   "metadata": {},
   "outputs": [],
   "source": [
    "\n",
    "import pandas as pd\n",
    "import numpy as np\n",
    "import matplotlib.pyplot as plt\n",
    "import seaborn as sns\n",
    "\n",
    "bus_conduct = pd.read_csv('TTU Data - Bus Conduct.csv')\n",
    "family_engagement = pd.read_csv('TTU Data - Family Engagement.csv')\n",
    "disciplinary_referral = pd.read_csv('TTU Data - Disciplinary Referral.csv')\n",
    "\n",
    "print(\"Bus Conduct Dataset:\")\n",
    "display(bus_conduct.head())\n",
    "\n",
    "print(\"Family Engagement Dataset:\")\n",
    "display(family_engagement.head())\n",
    "\n",
    "print(\"Disciplinary Referral Dataset:\")\n",
    "display(disciplinary_referral.head())\n"
   ]
  },
  {
   "cell_type": "markdown",
   "id": "75c34d7b",
   "metadata": {},
   "source": [
    "## 3. Exploratory Data Analysis (EDA)"
   ]
  },
  {
   "cell_type": "code",
   "execution_count": null,
   "id": "1fb0403b",
   "metadata": {},
   "outputs": [],
   "source": [
    "\n",
    "bus_conduct['Date of Incident'] = pd.to_datetime(bus_conduct['Date of Incident'])\n",
    "disciplinary_referral['Date of Incident'] = pd.to_datetime(disciplinary_referral['Date of Incident'])\n",
    "\n",
    "print(\"Missing values in Bus Conduct Data:\")\n",
    "print(bus_conduct.isnull().sum())\n",
    "\n",
    "print(\"\\nMissing values in Disciplinary Referral Data:\")\n",
    "print(disciplinary_referral.isnull().sum())\n"
   ]
  },
  {
   "cell_type": "code",
   "execution_count": null,
   "id": "051b6844",
   "metadata": {},
   "outputs": [],
   "source": [
    "\n",
    "disciplinary_referral['Month'] = disciplinary_referral['Date of Incident'].dt.month\n",
    "monthly_referrals = disciplinary_referral.groupby('Month').size()\n",
    "\n",
    "plt.figure(figsize=(10,5))\n",
    "sns.barplot(x=monthly_referrals.index, y=monthly_referrals.values)\n",
    "plt.title('Monthly Disciplinary Referrals')\n",
    "plt.xlabel('Month')\n",
    "plt.ylabel('Number of Referrals')\n",
    "plt.show()\n"
   ]
  },
  {
   "cell_type": "code",
   "execution_count": null,
   "id": "0cada97c",
   "metadata": {},
   "outputs": [],
   "source": [
    "\n",
    "frequent_students = disciplinary_referral['Student Identifier'].value_counts().head(10)\n",
    "\n",
    "plt.figure(figsize=(10,5))\n",
    "sns.barplot(y=frequent_students.index, x=frequent_students.values, orient='h')\n",
    "plt.title('Top 10 Students by Number of Referrals')\n",
    "plt.xlabel('Number of Referrals')\n",
    "plt.ylabel('Student Identifier')\n",
    "plt.show()\n"
   ]
  },
  {
   "cell_type": "markdown",
   "id": "e58f0ba6",
   "metadata": {},
   "source": [
    "## 4. Hypothesis Testing\n",
    "*(To be completed by team)*"
   ]
  },
  {
   "cell_type": "markdown",
   "id": "1be3a922",
   "metadata": {},
   "source": [
    "## 5. Feature Engineering\n",
    "*(To be completed by team)*"
   ]
  },
  {
   "cell_type": "markdown",
   "id": "207eec22",
   "metadata": {},
   "source": [
    "## 6. Model Development\n",
    "*(To be completed by team)*"
   ]
  },
  {
   "cell_type": "markdown",
   "id": "24755b3c",
   "metadata": {},
   "source": [
    "## 7. Model Evaluation and Interpretation\n",
    "*(To be completed by team)*"
   ]
  },
  {
   "cell_type": "markdown",
   "id": "a32cde45",
   "metadata": {},
   "source": [
    "## 8. Result Cleanup\n",
    "*(To be completed by team)*"
   ]
  }
 ],
 "metadata": {
  "kernelspec": {
   "display_name": "venv",
   "language": "python",
   "name": "python3"
  },
  "language_info": {
   "codemirror_mode": {
    "name": "ipython",
    "version": 3
   },
   "file_extension": ".py",
   "mimetype": "text/x-python",
   "name": "python",
   "nbconvert_exporter": "python",
   "pygments_lexer": "ipython3",
   "version": "3.12.6"
  }
 },
 "nbformat": 4,
 "nbformat_minor": 5
}
