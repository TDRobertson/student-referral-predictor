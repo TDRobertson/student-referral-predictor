{
 "cells": [
  {
   "cell_type": "markdown",
   "id": "0",
   "metadata": {},
   "source": [
    "# Data Mining Project: Predicting Student Behavioral Disruptions\n"
   ]
  },
  {
   "cell_type": "markdown",
   "id": "1",
   "metadata": {},
   "source": [
    "## Library Requirements\n",
    "Install the required libraries specified in the `requirements.txt` file. You can do this using pip:\n",
    "```bash\n",
    "pip install -r requirements.txt\n",
    "```"
   ]
  },
  {
   "cell_type": "markdown",
   "id": "2",
   "metadata": {},
   "source": [
    "\n",
    "## Table of Contents\n",
    "1. [Introduction](#introduction)\n",
    "2. [Data Loading and Initial Exploration](#data-loading)\n",
    "3. [Exploratory Data Analysis (EDA)](#eda)\n",
    "4. [Hypothesis Testing](#hypothesis-testing)\n",
    "5. [Feature Engineering](#feature-engineering)\n",
    "6. [Model Development](#model-development)\n",
    "7. [Model Evaluation and Interpretation](#model-evaluation)\n",
    "8. [Result Cleanup](#result-cleanup)\n"
   ]
  },
  {
   "cell_type": "markdown",
   "id": "3",
   "metadata": {},
   "source": [
    "## 1. Introduction\n",
    "This notebook documents our team's effort to predict and analyze student behavioral disruptions to minimize in-class interruptions.\n",
    "\n",
    "**Team Members:**  \n",
    "**Customer:** Adam West\n",
    "\n",
    "**Objectives:**\n",
    "- Predict behavioral disruptions\n",
    "- Identify anomalous patterns\n",
    "- Provide clear interpretations\n"
   ]
  },
  {
   "cell_type": "markdown",
   "id": "4",
   "metadata": {},
   "source": [
    "## 2. Data Loading and Initial Exploration"
   ]
  },
  {
   "cell_type": "code",
   "execution_count": null,
   "id": "5",
   "metadata": {},
   "outputs": [],
   "source": [
    "import pandas as pd\n",
    "import numpy as np\n",
    "import matplotlib.pyplot as plt\n",
    "import seaborn as sns\n",
    "from scipy.stats import f_oneway, ttest_ind, spearmanr, pearsonr\n",
    "\n",
    "\n",
    "bus_conduct = pd.read_csv('TTU Data - Bus Conduct.csv')\n",
    "bus_conduct_updated = pd.read_csv('TTU Data Update - Bus Conduct.csv')\n",
    "family_engagement = pd.read_csv('TTU Data - Family Engagement.csv')\n",
    "disciplinary_referral = pd.read_csv('TTU Data - Disciplinary Referral.csv')\n",
    "disciplinary_referral_updated = pd.read_csv('TTU Data Update - Disciplinary Referral.csv')\n",
    "weather_df = pd.read_csv('weather.csv')\n",
    "\n",
    "\n",
    "print(\"Bus Conduct Dataset:\")\n",
    "display(bus_conduct.head())\n",
    "print(\"Bus Conduct Updated Dataset:\")\n",
    "display(bus_conduct_updated.head())\n",
    "\n",
    "print(\"Family Engagement Dataset:\")\n",
    "display(family_engagement.head())\n",
    "\n",
    "print(\"Disciplinary Referral Dataset:\")\n",
    "display(disciplinary_referral.head())\n",
    "\n",
    "print(\"Disciplinary Referral Updated Dataset:\")\n",
    "display(disciplinary_referral_updated.head())\n"
   ]
  },
  {
   "cell_type": "markdown",
   "id": "6",
   "metadata": {},
   "source": [
    "## 3. Exploratory Data Analysis (EDA)"
   ]
  },
  {
   "cell_type": "code",
   "execution_count": null,
   "id": "7",
   "metadata": {},
   "outputs": [],
   "source": [
    "\n",
    "# Combine and parse dates\n",
    "disciplinary_referral_all = pd.concat([disciplinary_referral, disciplinary_referral_updated], ignore_index=True).drop_duplicates()\n",
    "bus_conduct_all = pd.concat([bus_conduct, bus_conduct_updated], ignore_index=True).drop_duplicates()\n",
    "\n",
    "disciplinary_referral_all['Date of Incident'] = pd.to_datetime(disciplinary_referral_all['Date of Incident'], errors='coerce')\n",
    "bus_conduct_all['Date of Incident'] = pd.to_datetime(bus_conduct_all['Date of Incident'], errors='coerce')\n",
    "\n",
    "disciplinary_referral_all.to_csv(\"combined_disciplinary_referrals.csv\", index=False)\n",
    "bus_conduct_all.to_csv(\"combined_bus_conduct.csv\", index=False)\n",
    "\n",
    "print(\"Missing values in Combined Bus Conduct Data:\")\n",
    "print(bus_conduct_all.isnull().sum())\n",
    "\n",
    "print(\"\\nMissing values in Combined Disciplinary Referral Data:\")\n",
    "print(disciplinary_referral_all.isnull().sum())\n"
   ]
  },
  {
   "cell_type": "code",
   "execution_count": null,
   "id": "8",
   "metadata": {},
   "outputs": [],
   "source": [
    "\n",
    "disciplinary_referral_all['Month'] = disciplinary_referral_all['Date of Incident'].dt.month\n",
    "monthly_referrals = disciplinary_referral_all.groupby('Month').size()\n",
    "plt.figure(figsize=(10, 5))\n",
    "sns.barplot(x=monthly_referrals.index, y=monthly_referrals.values)\n",
    "plt.title('Monthly Disciplinary Referrals (Updated Dataset)')\n",
    "plt.xlabel('Month')\n",
    "plt.ylabel('Number of Referrals')\n",
    "plt.show()\n"
   ]
  },
  {
   "cell_type": "code",
   "execution_count": null,
   "id": "9",
   "metadata": {},
   "outputs": [],
   "source": [
    "\n",
    "frequent_students = disciplinary_referral_all['Student Identifier'].value_counts().head(10)\n",
    "plt.figure(figsize=(10, 5))\n",
    "sns.barplot(y=frequent_students.index, x=frequent_students.values, orient='h')\n",
    "plt.title('Top 10 Students by Number of Referrals (Updated Dataset)')\n",
    "plt.xlabel('Number of Referrals')\n",
    "plt.ylabel('Student Identifier')\n",
    "plt.show()\n"
   ]
  },
  {
   "cell_type": "code",
   "execution_count": null,
   "id": "10",
   "metadata": {},
   "outputs": [],
   "source": [
    "def categorize_time(time_str):\n",
    "    if pd.isna(time_str): return \"Unknown\"\n",
    "    time_str = time_str.lower().strip()\n",
    "    if \"before school\" in time_str: return \"Before School\"\n",
    "    elif any(t in time_str for t in [\"8:00am\", \"9:00am\", \"10:00am\", \"11:00am\"]): return \"Morning\"\n",
    "    elif any(t in time_str for t in [\"12:00pm\", \"1:00pm\"]): return \"Early Afternoon\"\n",
    "    elif any(t in time_str for t in [\"2:00pm\", \"3:00pm\"]): return \"Late Afternoon\"\n",
    "    elif \"after school\" in time_str: return \"After School\"\n",
    "    else: return \"Other\"\n",
    "\n",
    "time_order = [\"Before School\", \"Morning\", \"Early Afternoon\", \"Late Afternoon\", \"After School\", \"Other\"]\n",
    "# Apply time categorization to the updated dataset\n",
    "disciplinary_referral_all[\"Time_Category\"] = disciplinary_referral_all[\"Time of the Day the behavior occurred?\"].apply(categorize_time)\n",
    "\n",
    "# Set ordered category for plotting\n",
    "disciplinary_referral_all[\"Time_Category\"] = pd.Categorical(\n",
    "    disciplinary_referral_all[\"Time_Category\"],\n",
    "    categories=time_order,\n",
    "    ordered=True\n",
    ")\n",
    "\n",
    "# Recreate heatmap grouping\n",
    "grouped = disciplinary_referral_all.groupby([\"Grade_Level\", \"Time_Category\"]).size().unstack().fillna(0)\n",
    "\n",
    "# Sort grades for display\n",
    "grouped = grouped.sort_index()\n",
    "\n",
    "# Plot clean heatmap\n",
    "plt.figure(figsize=(12, 6))\n",
    "sns.heatmap(grouped, annot=True, fmt='d', cmap=\"YlGnBu\")\n",
    "plt.title(\"Disciplinary Referrals by Grade Level and Time of Day (Cleaned)\")\n",
    "plt.xlabel(\"Time of Day\")\n",
    "plt.ylabel(\"Grade Level\")\n",
    "plt.tight_layout()\n",
    "plt.show()\n",
    "\n"
   ]
  },
  {
   "cell_type": "code",
   "execution_count": null,
   "id": "11",
   "metadata": {},
   "outputs": [],
   "source": [
    "weather_df['datetime'] = pd.to_datetime(weather_df['datetime'], errors='coerce')\n",
    "referrals_per_day = disciplinary_referral_all.groupby('Date of Incident').size().reset_index(name='referral_count')\n",
    "merged_df = pd.merge(referrals_per_day, weather_df, how='inner', left_on='Date of Incident', right_on='datetime')\n",
    "merged_df.drop(columns=['datetime'], inplace=True)\n",
    "bins = [0, 50, 70, 100]\n",
    "labels = ['Cold (<50°F)', 'Mild (50–70°F)', 'Hot (>70°F)']\n",
    "merged_df['Temp_Category'] = pd.cut(merged_df['temp'], bins=bins, labels=labels)\n",
    "binned_referrals = merged_df.groupby('Temp_Category')['referral_count'].mean().reset_index()\n",
    "plt.figure(figsize=(8, 5))\n",
    "sns.barplot(data=binned_referrals, x='Temp_Category', y='referral_count', palette='coolwarm')\n",
    "plt.title('Average Referrals by Temperature (Updated)')\n",
    "plt.ylabel('Average Number of Referrals')\n",
    "plt.xlabel('Temperature Range')\n",
    "plt.grid(True, axis='y')\n",
    "plt.tight_layout()\n",
    "plt.show()"
   ]
  },
  {
   "cell_type": "markdown",
   "id": "12",
   "metadata": {},
   "source": [
    "## 3.5 Expanded EDA: Additional Insights and Correlations"
   ]
  },
  {
   "cell_type": "markdown",
   "id": "13",
   "metadata": {},
   "source": [
    "## Expanded EDA: Additional Insights and Correlations"
   ]
  },
  {
   "cell_type": "markdown",
   "id": "14",
   "metadata": {},
   "source": [
    "### Referrals by School or Staff"
   ]
  },
  {
   "cell_type": "code",
   "execution_count": null,
   "id": "15",
   "metadata": {},
   "outputs": [],
   "source": [
    "staff_referral_counts = disciplinary_referral_all['Please select your school'].value_counts().head(10)\n",
    "plt.figure(figsize=(10, 5))\n",
    "sns.barplot(y=staff_referral_counts.index, x=staff_referral_counts.values, orient='h')\n",
    "plt.title(\"Top 10 Schools by Referral Count\")\n",
    "plt.xlabel(\"Referrals Issued\")\n",
    "plt.ylabel(\"School\")\n",
    "plt.tight_layout()\n",
    "plt.show()"
   ]
  },
  {
   "cell_type": "markdown",
   "id": "16",
   "metadata": {},
   "source": [
    "Weather and Referral Type (e.g Fighting)"
   ]
  },
  {
   "cell_type": "code",
   "execution_count": null,
   "id": "17",
   "metadata": {},
   "outputs": [],
   "source": [
    "fighting_referrals = disciplinary_referral_all[disciplinary_referral_all['Select the Major Referral'].str.contains('fight', na=False, case=False)]\n",
    "fight_days = fighting_referrals.groupby('Date of Incident').size().reset_index(name='fight_referrals')\n",
    "weather_df['datetime'] = pd.to_datetime(weather_df['datetime'], errors='coerce')\n",
    "weather_fights = pd.merge(fight_days, weather_df, left_on='Date of Incident', right_on='datetime', how='inner')\n",
    "\n",
    "plt.figure(figsize=(10, 5))\n",
    "sns.scatterplot(data=weather_fights, x='temp', y='fight_referrals')\n",
    "plt.title(\"Daily Fight Referrals vs. Temperature\")\n",
    "plt.xlabel(\"Temperature\")\n",
    "plt.ylabel(\"Number of Fight-Related Referrals\")\n",
    "plt.grid(True)\n",
    "plt.tight_layout()\n",
    "plt.show()"
   ]
  },
  {
   "cell_type": "markdown",
   "id": "18",
   "metadata": {},
   "source": [
    "### Bus Conduct vs. Classroom Referrals"
   ]
  },
  {
   "cell_type": "code",
   "execution_count": null,
   "id": "19",
   "metadata": {},
   "outputs": [],
   "source": [
    "bus_counts = bus_conduct_all['Student Identifier'].value_counts().reset_index()\n",
    "bus_counts.columns = ['Student Identifier', 'Bus_Incidents']\n",
    "\n",
    "referral_counts = disciplinary_referral_all['Student Identifier'].value_counts().reset_index()\n",
    "referral_counts.columns = ['Student Identifier', 'Referrals']\n",
    "\n",
    "merged_behavior = pd.merge(bus_counts, referral_counts, on='Student Identifier', how='outer').fillna(0)\n",
    "plt.figure(figsize=(8, 6))\n",
    "sns.scatterplot(data=merged_behavior, x='Bus_Incidents', y='Referrals')\n",
    "plt.title('Referrals vs. Bus Conduct Incidents')\n",
    "plt.xlabel('Bus Conduct Incidents')\n",
    "plt.ylabel('Referrals')\n",
    "plt.grid(True)\n",
    "plt.tight_layout()\n",
    "plt.show()"
   ]
  },
  {
   "cell_type": "markdown",
   "id": "20",
   "metadata": {},
   "source": [
    "### Weekday Trends in Referrals"
   ]
  },
  {
   "cell_type": "code",
   "execution_count": null,
   "id": "21",
   "metadata": {},
   "outputs": [],
   "source": [
    "disciplinary_referral_all['Weekday'] = disciplinary_referral_all['Date of Incident'].dt.day_name()\n",
    "weekday_order = ['Monday', 'Tuesday', 'Wednesday', 'Thursday', 'Friday']\n",
    "weekday_counts = disciplinary_referral_all['Weekday'].value_counts().reindex(weekday_order)\n",
    "plt.figure(figsize=(8, 4))\n",
    "sns.barplot(x=weekday_counts.index, y=weekday_counts.values)\n",
    "plt.title('Referrals by Day of the Week')\n",
    "plt.ylabel('Number of Referrals')\n",
    "plt.xlabel('Day')\n",
    "plt.tight_layout()\n",
    "plt.show()"
   ]
  },
  {
   "cell_type": "markdown",
   "id": "22",
   "metadata": {},
   "source": [
    "## 4. Hypothesis Testing\n",
    "This section explores several data-driven hypotheses relevant to predicting and minimizing in-class behavioral disruptions. The following tests were conducted using statistical methods such as t-tests, ANOVA, and correlation analyses."
   ]
  },
  {
   "cell_type": "markdown",
   "id": "23",
   "metadata": {},
   "source": [
    "--- "
   ]
  },
  {
   "cell_type": "markdown",
   "id": "24",
   "metadata": {},
   "source": [
    "### H1: Referral Frequency Increases Near Testing Season\n",
    "\n",
    "**Hypothesis:** March and April have significantly higher referral counts due to testing-related stress.\n",
    "\n",
    "**Test Type:** One-way ANOVA  \n",
    "**Rationale:** Compare monthly referral averages across months."
   ]
  },
  {
   "cell_type": "code",
   "execution_count": null,
   "id": "25",
   "metadata": {},
   "outputs": [],
   "source": [
    "# Drop NaNs and extract month\n",
    "monthly_ref = disciplinary_referral_all.dropna(subset=['Date of Incident']).copy()\n",
    "monthly_ref['Month'] = monthly_ref['Date of Incident'].dt.month\n",
    "\n",
    "monthly_groups = [\n",
    "    group['Student Identifier']\n",
    "    for _, group in monthly_ref.groupby('Month')\n",
    "    if len(group) > 1 and group['Student Identifier'].nunique() > 1\n",
    "]\n",
    "\n",
    "if len(monthly_groups) >= 2:\n",
    "    f_stat, p_value = f_oneway(*monthly_groups)\n",
    "    print(f\"F-statistic: {f_stat:.4f}\")\n",
    "    print(f\"P-value: {p_value:.4f}\")\n",
    "    if p_value < 0.05:\n",
    "        print(\"Significant differences exist between monthly referral counts.\")\n",
    "    else:\n",
    "        print(\"No significant difference between months.\")\n",
    "else:\n",
    "    print(\"Not enough valid monthly groups for ANOVA.\")\n"
   ]
  },
  {
   "cell_type": "markdown",
   "id": "26",
   "metadata": {},
   "source": [
    "---\n",
    "\n",
    "### H2: Bus Misconduct is Associated with More In-Class Referrals\n",
    "\n",
    "**Hypothesis:** Students with bus conduct incidents have significantly more in-class referrals than those without.\n",
    "\n",
    "**Test Type:** Welch’s t-test (independent two-sample t-test)  \n",
    "**Rationale:** Compare mean referral counts between two groups (bus incident vs. no bus incident)."
   ]
  },
  {
   "cell_type": "code",
   "execution_count": null,
   "id": "27",
   "metadata": {},
   "outputs": [],
   "source": [
    "# Total referrals per student\n",
    "referral_counts = disciplinary_referral_all['Student Identifier'].value_counts().reset_index()\n",
    "referral_counts.columns = ['Student Identifier', 'Total_Referrals']\n",
    "\n",
    "# Total bus incidents per student\n",
    "bus_counts = bus_conduct_all['Student Identifier'].value_counts().reset_index()\n",
    "bus_counts.columns = ['Student Identifier', 'Bus_Incidents']\n",
    "\n",
    "# Merge datasets\n",
    "behavior_merge = pd.merge(referral_counts, bus_counts, on='Student Identifier', how='outer').fillna(0)\n",
    "\n",
    "# Create two groups\n",
    "bus_yes = behavior_merge[behavior_merge['Bus_Incidents'] > 0]['Total_Referrals']\n",
    "bus_no = behavior_merge[behavior_merge['Bus_Incidents'] == 0]['Total_Referrals']\n",
    "\n",
    "# Run t-test\n",
    "t_stat, p_value = ttest_ind(bus_yes, bus_no, equal_var=False)\n",
    "\n",
    "print(f\"T-statistic: {t_stat:.4f}\")\n",
    "print(f\"P-value: {p_value:.4f}\")\n",
    "if p_value < 0.05:\n",
    "    print(\"Statistically significant difference found.\")\n",
    "else:\n",
    "    print(\"No significant difference.\")"
   ]
  },
  {
   "cell_type": "markdown",
   "id": "28",
   "metadata": {},
   "source": [
    "---\n",
    "\n",
    "### H3: Family Engagement Negatively Correlates with Referrals\n",
    "\n",
    "**Hypothesis:** Higher family engagement is associated with fewer referrals.\n",
    "\n",
    "**Test Type:** Spearman Correlation  \n",
    "**Rationale:** Non-parametric test of ordinal survey response counts vs. referral totals."
   ]
  },
  {
   "cell_type": "code",
   "execution_count": null,
   "id": "29",
   "metadata": {},
   "outputs": [],
   "source": [
    "# Clean columns and estimate total referrals per school\n",
    "referrals_by_school = disciplinary_referral_all['Please select your school'].value_counts().reset_index()\n",
    "referrals_by_school.columns = ['School', 'Total_Referrals']\n",
    "\n",
    "# Survey counts per school\n",
    "engagement_by_school = family_engagement['Please check which school your child/children attends.'].value_counts().reset_index()\n",
    "engagement_by_school.columns = ['School', 'Engagement_Survey_Responses']\n",
    "\n",
    "school_merge = pd.merge(referrals_by_school, engagement_by_school, on='School', how='inner')\n",
    "\n",
    "# Spearman correlation\n",
    "corr, p_value = spearmanr(school_merge['Engagement_Survey_Responses'], school_merge['Total_Referrals'])\n",
    "print(f\"Spearman correlation: {corr:.4f}\\nP-value: {p_value:.4f}\")\n",
    "if p_value < 0.05:\n",
    "    print(\"Significant negative/positive correlation.\")\n",
    "else:\n",
    "    print(\"No significant correlation found.\")"
   ]
  },
  {
   "cell_type": "markdown",
   "id": "30",
   "metadata": {},
   "source": [
    "\n",
    "---\n",
    "\n",
    "### H4: Referral Count Differs by Grade Level\n",
    "\n",
    "**Hypothesis:** Certain grades have significantly more referrals.\n",
    "\n",
    "**Test Type:** One-way ANOVA  \n",
    "**Rationale:** Compare referral frequency across grades.\n"
   ]
  },
  {
   "cell_type": "code",
   "execution_count": null,
   "id": "31",
   "metadata": {},
   "outputs": [],
   "source": [
    "disciplinary_referral_all['Grade_Level'] = pd.to_numeric(disciplinary_referral_all['Grade_Level'], errors='coerce')\n",
    "ref_by_grade = disciplinary_referral_all.dropna(subset=['Grade_Level'])\n",
    "\n",
    "grade_groups = [\n",
    "    group['Student Identifier']\n",
    "    for _, group in ref_by_grade.groupby('Grade_Level')\n",
    "    if len(group) > 1 and group['Student Identifier'].nunique() > 1\n",
    "]\n",
    "\n",
    "if len(grade_groups) >= 2:\n",
    "    f_stat, p_value = f_oneway(*grade_groups)\n",
    "    print(f\"F-statistic: {f_stat:.4f}\")\n",
    "    print(f\"P-value: {p_value:.4f}\")\n",
    "    if p_value < 0.05:\n",
    "        print(\"Referral rates differ significantly across grades.\")\n",
    "    else:\n",
    "        print(\"No significant difference in referrals between grades.\")\n",
    "else:\n",
    "    print(\"Not enough valid grade groups for ANOVA.\")\n"
   ]
  },
  {
   "cell_type": "markdown",
   "id": "32",
   "metadata": {},
   "source": [
    "\n",
    "---\n",
    "\n",
    "### H5: Referral Volume Correlates with Weather Factors\n",
    "\n",
    "**Hypothesis:** Temperature and humidity levels are associated with referral counts.\n",
    "\n",
    "**Test Type:** Pearson Correlation  \n",
    "**Rationale:** Compare numeric weather features against referral count per day.\n"
   ]
  },
  {
   "cell_type": "code",
   "execution_count": null,
   "id": "33",
   "metadata": {},
   "outputs": [],
   "source": [
    "# Prepare merged dataset\n",
    "weather_df['datetime'] = pd.to_datetime(weather_df['datetime'], errors='coerce')\n",
    "daily_ref = disciplinary_referral_all.groupby('Date of Incident').size().reset_index(name='referral_count')\n",
    "daily_weather = pd.merge(daily_ref, weather_df, left_on='Date of Incident', right_on='datetime', how='inner')\n",
    "\n",
    "# Pearson correlations\n",
    "for var in ['temp', 'humidity']:\n",
    "    corr, p = pearsonr(daily_weather['referral_count'], daily_weather[var])\n",
    "    print(f\"Pearson correlation between referrals and {var}: {corr:.4f} (p = {p:.4f})\")"
   ]
  },
  {
   "cell_type": "markdown",
   "id": "34",
   "metadata": {},
   "source": [
    "## Hypothesis Testing Summary and Interpretation\n",
    "\n",
    "This section summarizes the results of five statistical tests aimed at identifying significant patterns and relationships related to student behavioral referrals. These insights support the ultimate goal of targeting interventions and informing stakeholder decision-making.\n",
    "\n",
    "---\n",
    "\n",
    "### **H1: Referral Frequency Increases Near Testing Season**\n",
    "- **F-statistic:** `NaN`  \n",
    "- **P-value:** `NaN`  \n",
    "- **Result:** *Test could not be performed due to insufficient or non-variable data.*\n",
    "\n",
    "**Interpretation:**  \n",
    "Referral data for summer months (June, July) was missing, and some months had uniform or single-entry referral counts. This lack of statistical variance violated ANOVA assumptions, making the test invalid.\n",
    "\n",
    "**Implication:**  \n",
    "A follow-up study with more balanced month-by-month data could explore whether academic testing stress correlates with behavioral disruptions.\n",
    "\n",
    "---\n",
    "\n",
    "### **H2: Bus Misconduct is Associated with More In-Class Referrals**\n",
    "- **T-statistic:** `-4.9906`  \n",
    "- **P-value:** `0.0000`  \n",
    "- **Result:** *Statistically significant difference found.*\n",
    "\n",
    "**Interpretation:**  \n",
    "Students with at least one bus conduct incident had significantly higher referral counts compared to those without. The large negative t-statistic confirms that the two group means are meaningfully different.\n",
    "\n",
    "**Implication:**  \n",
    "Bus misconduct is a strong predictor of general behavioral issues. Students flagged for bus incidents may benefit from preemptive behavioral interventions or monitoring in the classroom.\n",
    "\n",
    "---\n",
    "\n",
    "### **H3: Family Engagement Negatively Correlates with Referrals**\n",
    "- **Spearman correlation:** `-0.8000`  \n",
    "- **P-value:** `0.2000`  \n",
    "- **Result:** *Not statistically significant.*\n",
    "\n",
    "**Interpretation:**  \n",
    "While a strong negative correlation was observed (suggesting that higher engagement corresponds with fewer referrals), the p-value was not below the 0.05 threshold for significance. This may be due to small sample size (school-level aggregation).\n",
    "\n",
    "**Implication:**  \n",
    "There is potential evidence that increased family involvement could reduce behavior issues. Larger or student-level datasets may yield stronger conclusions.\n",
    "\n",
    "---\n",
    "\n",
    "### **H4: Referral Count Differs by Grade Level**\n",
    "- **F-statistic:** `NaN`  \n",
    "- **P-value:** `NaN`  \n",
    "- **Result:** *Test could not be performed due to insufficient group variability.*\n",
    "\n",
    "**Interpretation:**  \n",
    "Some grades had extremely low referral counts or lacked variation, violating ANOVA requirements. As with H1, this results in an invalid test.\n",
    "\n",
    "**Implication:**  \n",
    "FIX THIS LATER\n",
    "\n",
    "---\n",
    "\n",
    "### **H5: Weather Correlation with Referral Volume**\n",
    "- **Temperature Correlation (Pearson):** `0.1636` (p = `0.0455`)  \n",
    "- **Humidity Correlation (Pearson):** `0.1566` (p = `0.0557`) \n",
    "\n",
    "**Interpretation:**  \n",
    "There is a **weak but statistically significant** positive correlation between **temperature** and **referral volume**, indicating referrals tend to rise on warmer days. The correlation with humidity is borderline and not statistically significant at α = 0.05.\n",
    "\n",
    "**Implication:**  \n",
    "Environmental stressors such as heat may contribute to behavioral issues. Schools could explore increased support or schedule adjustments during high-heat periods.\n",
    "\n",
    "---\n",
    "\n",
    "### Overall Recommendations:\n",
    "\n",
    "- **Focus future models on bus conduct as a predictive feature.**\n",
    "- **Consider temperature as a situational risk factor.**\n",
    "- **Explore family engagement strategies to reduce referrals.**\n"
   ]
  },
  {
   "cell_type": "markdown",
   "id": "35",
   "metadata": {},
   "source": [
    "## Initial Recommendations for School Stakeholders\n",
    "\n",
    "Based on data-driven hypothesis testing and exploratory analysis, the following recommendations are proposed to help school administrators reduce behavioral disruptions and improve classroom environments:\n",
    "\n",
    "---\n",
    "\n",
    "### 1. Monitor Students with Bus Conduct Incidents\n",
    "> **Why:** Students with bus conduct violations had *statistically significantly higher* classroom referral rates.\n",
    "\n",
    "**Recommendations:**\n",
    "- Flag students with bus write-ups for early behavioral intervention or counseling.\n",
    "- Integrate bus conduct records into early warning systems.\n",
    "- Enhance collaboration between bus drivers and classroom teachers.\n",
    "\n",
    "---\n",
    "\n",
    "### 2. Plan for Heat-Related Behavior Increases\n",
    "> **Why:** Referral counts showed a *significant positive correlation* with higher temperatures.\n",
    "\n",
    "**Recommendations:**\n",
    "- Improve classroom cooling access and hydration breaks during hot weather.\n",
    "- Train teachers in managing heat-induced student irritability.\n",
    "- Monitor referrals during heatwaves and adjust scheduling if needed.\n",
    "\n",
    "---\n",
    "\n",
    "### 3. Use Family Engagement as a Soft Predictor\n",
    "> **Why:** A strong negative (though not statistically significant) correlation was observed between family engagement and referrals.\n",
    "\n",
    "**Recommendations:**\n",
    "- Encourage increased parental participation in school events and surveys.\n",
    "- Use engagement metrics to target school-specific outreach strategies.\n",
    "- Offer incentives for family involvement in education and discipline policies.\n",
    "\n",
    "---\n",
    "\n",
    "### 4. Improve Data Collection for Temporal Analysis\n",
    "> **Why:** Missing data for summer months and inconsistent grade-level information made trend testing inconclusive.\n",
    "\n",
    "**Recommendations:**\n",
    "- Ensure consistent referral logging across all months, including summer sessions.\n",
    "- Standardize grade-level encoding across datasets.\n",
    "- Capture time-of-day and seasonal data with higher granularity.\n",
    "\n",
    "---\n",
    "\n",
    "### 5. Prioritize Multivariate Risk Profiling\n",
    "> **Why:** Bus behavior, weather, and family engagement all show predictive potential.\n",
    "\n",
    "**Recommendations:**\n",
    "- Develop internal dashboards combining behavior, attendance, engagement, and weather.\n",
    "- Group students by intervention tiers using these combined indicators.\n",
    "- Explore predictive modeling to proactively identify at-risk students.\n",
    "\n",
    "---\n",
    "\n",
    "These recommendations are intended to guide practical changes and inform predictive modeling efforts that follow in subsequent sections.\n"
   ]
  },
  {
   "cell_type": "markdown",
   "id": "36",
   "metadata": {},
   "source": [
    "## 5. Feature Engineering\n",
    "In this section we will create a student-week model dataset that aggregates student behavior data on a weekly basis. This will help us analyze trends and patterns in student behavior over time.\n"
   ]
  },
  {
   "cell_type": "code",
   "execution_count": null,
   "id": "37",
   "metadata": {},
   "outputs": [],
   "source": [
    "#  Merging all the datasets into one model ready dataset\n",
    "# Reload datasets\n",
    "original_ref = pd.read_csv(\"TTU Data - Disciplinary Referral.csv\")\n",
    "update_ref = pd.read_csv(\"TTU Data Update - Disciplinary Referral.csv\")\n",
    "original_bus = pd.read_csv(\"TTU Data - Bus Conduct.csv\")\n",
    "update_bus = pd.read_csv(\"TTU Data Update - Bus Conduct.csv\")\n",
    "family_engagement = pd.read_csv(\"TTU Data - Family Engagement.csv\")\n",
    "weather = pd.read_csv(\"weather.csv\")\n",
    "\n",
    "# Merge referrals\n",
    "all_ref_columns = list(set(original_ref.columns).union(set(update_ref.columns)))\n",
    "original_ref = original_ref.reindex(columns=all_ref_columns)\n",
    "update_ref = update_ref.reindex(columns=all_ref_columns)\n",
    "full_ref = pd.concat([original_ref, update_ref], ignore_index=True).drop_duplicates()\n",
    "\n",
    "# Merge bus conduct\n",
    "all_bus_columns = list(set(original_bus.columns).union(set(update_bus.columns)))\n",
    "original_bus = original_bus.reindex(columns=all_bus_columns)\n",
    "update_bus = update_bus.reindex(columns=all_bus_columns)\n",
    "full_bus = pd.concat([original_bus, update_bus], ignore_index=True).drop_duplicates()\n",
    "\n",
    "# Preprocess dates\n",
    "full_ref['Date of Incident'] = pd.to_datetime(full_ref['Date of Incident'], errors='coerce')\n",
    "full_bus['Date of Incident'] = pd.to_datetime(full_bus['Date of Incident'], errors='coerce')\n",
    "weather['datetime'] = pd.to_datetime(weather['datetime'], errors='coerce')\n",
    "\n",
    "# STEP 1: Create 'Week' columns\n",
    "full_ref['Week'] = full_ref['Date of Incident'].dt.to_period('W').apply(lambda r: r.start_time)\n",
    "full_bus['Week'] = full_bus['Date of Incident'].dt.to_period('W').apply(lambda r: r.start_time if not pd.isnull(r) else None)\n",
    "# STEP 2: Aggregate referral and bus incidents per student per week\n",
    "ref_agg = full_ref.groupby(['Student Identifier', 'Week']).size().reset_index(name='weekly_referrals')\n",
    "bus_agg = full_bus.groupby(['Student Identifier', 'Week']).size().reset_index(name='weekly_bus_incidents')\n",
    "\n",
    "# STEP 3: Extract basic student metadata\n",
    "student_meta = full_ref.drop_duplicates('Student Identifier')[['Student Identifier', 'Grade_Level', 'Gender', 'Ethnicity', 'LunchStatus']]\n",
    "\n",
    "# STEP 4: Normalize and prepare engagement survey data\n",
    "engagement_data = family_engagement.rename(columns=lambda x: x.strip())\n",
    "if 'Student Identifier' not in engagement_data.columns:\n",
    "    for col in engagement_data.columns:\n",
    "        if 'student' in col.lower() and 'id' in col.lower():\n",
    "            engagement_data.rename(columns={col: 'Student Identifier'}, inplace=True)\n",
    "            break\n",
    "\n",
    "# STEP 5: Merge referral and bus data\n",
    "student_weeks = pd.merge(ref_agg, bus_agg, on=['Student Identifier', 'Week'], how='outer').fillna(0)\n",
    "\n",
    "# STEP 6: Add student demographic data\n",
    "student_weeks = pd.merge(student_weeks, student_meta, on='Student Identifier', how='left')\n",
    "\n",
    "# STEP 7: Add engagement survey data\n",
    "student_weeks = pd.merge(student_weeks, engagement_data, on='Student Identifier', how='left')\n",
    "\n",
    "# STEP 8: Add weekly weather aggregates\n",
    "weather['Week'] = weather['datetime'].dt.to_period('W').apply(lambda r: r.start_time)\n",
    "weather_weekly = weather.groupby('Week').agg({\n",
    "    'temp': 'mean',\n",
    "    'humidity': 'mean',\n",
    "    'precip': 'mean',\n",
    "    'sealevelpressure': 'mean',\n",
    "    'windgust': 'mean'\n",
    "}).reset_index()\n",
    "student_weeks = pd.merge(student_weeks, weather_weekly, on='Week', how='left')\n",
    "\n",
    "# STEP 9: Create target variable\n",
    "student_weeks = student_weeks.sort_values(by=['Student Identifier', 'Week'])\n",
    "student_weeks['referral_next_week'] = student_weeks.groupby('Student Identifier')['weekly_referrals'].shift(-1)\n",
    "student_weeks['referral_next_week'] = (student_weeks['referral_next_week'] > 0).astype(int)\n",
    "\n",
    "# Display the result\n",
    "print(\"Model-Ready Dataset Preview:\")\n",
    "print(student_weeks.head())\n",
    "print(\"\\nShape:\", student_weeks.shape)\n",
    "print(\"Columns:\", student_weeks.columns.tolist())\n"
   ]
  },
  {
   "cell_type": "markdown",
   "id": "38",
   "metadata": {},
   "source": [
    "## 6. Model Development\n",
    "*(To be completed by team)*"
   ]
  },
  {
   "cell_type": "markdown",
   "id": "39",
   "metadata": {},
   "source": [
    "## 7. Model Evaluation and Interpretation\n",
    "*(To be completed by team)*"
   ]
  },
  {
   "cell_type": "markdown",
   "id": "40",
   "metadata": {},
   "source": [
    "## 8. Result Cleanup\n",
    "*(To be completed by team)*"
   ]
  }
 ],
 "metadata": {
  "kernelspec": {
   "display_name": "venv",
   "language": "python",
   "name": "python3"
  },
  "language_info": {
   "codemirror_mode": {
    "name": "ipython",
    "version": 3
   },
   "file_extension": ".py",
   "mimetype": "text/x-python",
   "name": "python",
   "nbconvert_exporter": "python",
   "pygments_lexer": "ipython3",
   "version": "3.12.6"
  }
 },
 "nbformat": 4,
 "nbformat_minor": 5
}
